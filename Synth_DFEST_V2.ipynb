{
 "cells": [
  {
   "cell_type": "markdown",
   "metadata": {},
   "source": [
    "Dependencies\n",
    "-"
   ]
  },
  {
   "cell_type": "code",
   "execution_count": 1,
   "metadata": {},
   "outputs": [],
   "source": [
    "#DFEST & Synthetic Ground Truth Model Dependencies\n",
    "\n",
    "#sys.path.append('/tmpscratch/skelly26/.local/bin')\n",
    "#sys.path.append('/tmpscratch/skelly26/.local/lib/python3.8/site-packages')\n",
    "\n",
    "import sys\n",
    "#!{sys.executable} -m pip install pandas\n",
    "#!{sys.executable} -m pip install sklearn\n",
    "#!{sys.executable} -m pip install matplotlib\n",
    "\n",
    "import pandas as pd\n",
    "from sklearn.preprocessing import LabelEncoder, MinMaxScaler\n",
    "from sklearn.model_selection import train_test_split\n",
    "#from deepctr.models import DeepFM\n",
    "#from deepctr.feature_column import SparseFeat, DenseFeat,get_feature_names\n",
    "\n",
    "from sklearn.metrics import log_loss, roc_auc_score\n",
    "from sklearn.metrics import mean_squared_error\n",
    "import matplotlib.pyplot as plt\n",
    "from matplotlib.pyplot import figure\n",
    "import matplotlib\n",
    "\n",
    "import time\n",
    "import sys\n",
    "\n",
    "import tensorflow as tf\n",
    "from tensorflow.python.keras.models import  save_model,load_model\n",
    "from tensorflow.keras import layers\n",
    "#from deepctr.layers import custom_objects\n",
    "\n",
    "import numpy as np\n",
    "import math\n",
    "from collections import deque\n",
    "import random\n",
    "import heapq\n",
    "\n",
    "import scipy"
   ]
  },
  {
   "cell_type": "markdown",
   "metadata": {},
   "source": [
    "Define Structure of Feature Space as a Graph\n",
    "-"
   ]
  },
  {
   "cell_type": "code",
   "execution_count": 2,
   "metadata": {},
   "outputs": [],
   "source": [
    "class Node:\n",
    "    def __init__(self, position, distance):\n",
    "        \n",
    "        #Position list([row, column])\n",
    "        self.position = position # [n1, n2, ..., n|N|]\n",
    "        self.distance = distance #Distance for evaluation function to compare nodes in priority queue\n",
    "        \n",
    "  # Nodes with the same distance\n",
    "    def __eq__(self, other):\n",
    "        return isinstance(other, Node) and self.distance == other.distance\n",
    "  \n",
    "    # Node is less than other node\n",
    "    def __lt__(self, other):\n",
    "        return isinstance(other, Node) and self.distance < other.distance\n",
    "\n",
    "    # Node is greater than other node\n",
    "    def __gt__(self, other):\n",
    "        return isinstance(other, Node) and self.distance > other.distance"
   ]
  },
  {
   "cell_type": "markdown",
   "metadata": {},
   "source": [
    "Calculate Feature-Interaction Cluster\n",
    "-"
   ]
  },
  {
   "cell_type": "code",
   "execution_count": 3,
   "metadata": {
    "scrolled": true
   },
   "outputs": [],
   "source": [
    "# Puts solution node into a n-way feature interaction cluster, and tell which cluster\n",
    "def cluster_feat_int(source_node, query_node, solution_clusters, feat_scaler):\n",
    "    \n",
    "    #print(\"query_node1\",query_node.position, \"source_node1\",source_node.position)\n",
    "    soln_cluster = calc_feat_cluster(source_node, query_node, feat_scaler)\n",
    "                \n",
    "    if tuple(soln_cluster) not in solution_clusters:\n",
    "        solution_clusters[tuple(soln_cluster)] = []\n",
    "\n",
    "    solution_clusters[tuple(soln_cluster)].append(query_node.position)\n",
    "    \n",
    "    return solution_clusters #returns full cluster list\n",
    "\n",
    "\n",
    "def calc_feat_cluster(source_node, query_node, feat_scaler):\n",
    "    \n",
    "    relative_node_pos = (query_node.position - source_node.position) #Projects pos of query relative to source\n",
    "    scaled_feats = (relative_node_pos * feat_scaler) #[0] #Scales features to same scale of distance\n",
    "    f_max = np.argmax(abs(scaled_feats)) #Most dominant feature in solution\n",
    "    soln_cluster = np.zeros(len(feat_ranges)) #Marks which feature interaction was expressed by the node position\n",
    "    \n",
    "    #Loop through each feature of a single solution, and determine degree of multi-feature interaction\n",
    "    for f_i in range(len(scaled_feats)):\n",
    "        \n",
    "        if abs(scaled_feats[f_max]/scaled_feats[f_i]) <= 2:\n",
    "            if scaled_feats[f_i] > 0:\n",
    "                soln_cluster[f_i] = 1\n",
    "            else:\n",
    "                soln_cluster[f_i] = -1\n",
    "    \n",
    "    if scaled_feats[f_max] > 0:\n",
    "        soln_cluster[f_max] = 1\n",
    "    else:\n",
    "        soln_cluster[f_max] = -1\n",
    "        \n",
    "    return soln_cluster.astype(int)"
   ]
  },
  {
   "cell_type": "markdown",
   "metadata": {},
   "source": [
    "Define Synthetic Model (Global)\n",
    "-\n",
    "Given d-dimensional feature space, the synthetic_model() mathemtatically defines a ground truth decision boundary, such that all points within the bounds of a solution cluster are all a distance r from the source node position"
   ]
  },
  {
   "cell_type": "markdown",
   "metadata": {},
   "source": [
    "Generate Uniform Distribution of Unit Vectors in d-dimensional space\n",
    "---"
   ]
  },
  {
   "cell_type": "code",
   "execution_count": 4,
   "metadata": {},
   "outputs": [],
   "source": [
    "def generate_unit_vectors(nfeats,nvectors=1):\n",
    "\n",
    "    #np.random.seed(3)\n",
    "    vectors = []\n",
    "    for _ in range(nvectors):\n",
    "        v = np.random.uniform(low=-1, high=1, size=(nfeats,))\n",
    "        #v_hat = v / np.linalg.norm(v)\n",
    "        vectors.append(v)\n",
    "    return vectors"
   ]
  },
  {
   "cell_type": "markdown",
   "metadata": {},
   "source": [
    "Find k-way Feature-Interaction Solutions Surrounding Source Node\n",
    "---"
   ]
  },
  {
   "cell_type": "code",
   "execution_count": 421,
   "metadata": {},
   "outputs": [],
   "source": [
    "def generate_precursor_solutions(source_node, feat_ranges, k_prelim=20, nsteps=100):\n",
    "    \n",
    "    #plt.rcParams[\"figure.figsize\"] = (10,10)\n",
    "    \n",
    "    feat_ranges = feat_ranges #Ground truth altered boundary of solutions\n",
    "    feat_range = feat_ranges[0] #debug: gti can't dynamically scale feat proportions\n",
    "    feat_upscale = len(feat_ranges)\n",
    "    step_sizes = feat_upscale*feat_ranges/nsteps #How large of a step to take for each respective int feature\n",
    "    feat_scaler = 1/np.asarray(feat_ranges) #Scale to normalize feature step size when calculating distance\n",
    "    \n",
    "    #Normalized step size for searching every feature\n",
    "    feat_steps = []\n",
    "    for feat in range(len(feat_ranges)):\n",
    "        feat_steps.append(np.linspace(step_sizes[feat],step_sizes[feat]*nsteps,nsteps))\n",
    "    feat_steps = np.asarray(feat_steps)\n",
    "    \n",
    "    source_rec = query_nsphere_synth_model(source_node)\n",
    "\n",
    "    discovered = []\n",
    "\n",
    "    while len(discovered) < k_prelim:\n",
    "        \n",
    "        #print(\"###########################################################################\")\n",
    "        unit_vector = generate_unit_vectors(len(source_node.position))[0]\n",
    "        unit_vector = np.sign(np.round(unit_vector)) #Scale randomly generated clusters by appropriate ratio\n",
    "        for step in range(nsteps-1):\n",
    "            scaled_vector_position = tuple(np.asarray(unit_vector) * np.asarray(feat_steps.T[step]) + np.asarray(source_node.position))\n",
    "            #print(\"         \",scaled_vector_position)\n",
    "            scaled_vector = Node(scaled_vector_position, None)\n",
    "            query_rec = query_nsphere_synth_model(scaled_vector)\n",
    "            \n",
    "            #plt.plot(scaled_vector.position[0],scaled_vector.position[1],'bd',markersize=10)\n",
    "            \n",
    "            if source_rec != query_rec:\n",
    "                # distance heuristic\n",
    "                #plt.plot(scaled_vector.position[0],scaled_vector.position[1],'r^',markersize=15)\n",
    "                scaled_vector.distance = get_distance(source_node, scaled_vector, feat_scaler)\n",
    "                discovered.append(scaled_vector)\n",
    "                if len(discovered) % 10000 == 0:\n",
    "                    print(len(discovered),end=' ')\n",
    "                break\n",
    "                \n",
    "    #plt.plot(source_node.position[0],source_node.position[1],'y*',markersize=20)\n",
    "        \n",
    "    return discovered #prelim_discovered"
   ]
  },
  {
   "cell_type": "markdown",
   "metadata": {},
   "source": [
    "Calculate Distance from Source to Query Node\n",
    "---"
   ]
  },
  {
   "cell_type": "code",
   "execution_count": 6,
   "metadata": {},
   "outputs": [],
   "source": [
    "def get_distance(source_node, query_node, feat_scaler, distance='Euclidean'):\n",
    "    #returns distance for ndim feature space\n",
    "    \n",
    "    dif = query_node.position - source_node.position\n",
    "    scaled_dif = dif * feat_scaler\n",
    "    \n",
    "    # More efficient at scale\n",
    "    if distance == 'Manhattan':\n",
    "        return sum(abs(scaled_dif))\n",
    "    \n",
    "    if distance == 'Euclidean':\n",
    "        dsum = 0\n",
    "        for feat in dif:\n",
    "            dsum += feat**2\n",
    "        return math.sqrt(dsum)"
   ]
  },
  {
   "cell_type": "markdown",
   "metadata": {},
   "source": [
    "Display Shortest Clusters Found During Outside-In Search\n",
    "-"
   ]
  },
  {
   "cell_type": "code",
   "execution_count": 7,
   "metadata": {
    "scrolled": true
   },
   "outputs": [],
   "source": [
    "def sort_solution_clusters(solution_clusters,source_node,feat_scaler):\n",
    "    \n",
    "    all_distances = []\n",
    "    for key in solution_clusters:\n",
    "        total_distance = []\n",
    "        for soln in solution_clusters[key]:\n",
    "            distance = get_distance(source_node, Node(soln,None), feat_scaler)\n",
    "            total_distance.append(distance)\n",
    "        all_distances.append(np.sort(total_distance))\n",
    "        #print(key,':',(solution_clusters[key] * np.asarray(key)).mean())\n",
    "        \n",
    "    sorted_clusters = []\n",
    "    i = 0\n",
    "    for key in solution_clusters:\n",
    "        min_sample = all_distances[i].min()\n",
    "        sorted_clusters.append((min_sample,key))\n",
    "        i+=1\n",
    "    \n",
    "    sorted_clusters = np.asarray(sorted_clusters)\n",
    "    ind = sorted_clusters.argsort(axis=0)\n",
    "    sorted_clusters[:,0] = sorted_clusters[:,0][ind[:,0]]\n",
    "    sorted_clusters[:,1] = sorted_clusters[:,1][ind[:,0]]\n",
    "    \n",
    "    return sorted_clusters"
   ]
  },
  {
   "cell_type": "markdown",
   "metadata": {},
   "source": [
    "---"
   ]
  },
  {
   "cell_type": "markdown",
   "metadata": {},
   "source": [
    "Adjacent Cluster Search\n",
    "-"
   ]
  },
  {
   "cell_type": "code",
   "execution_count": 8,
   "metadata": {},
   "outputs": [],
   "source": [
    "#Return positions in adjacent solution clusters\n",
    "def find_adjs(source_node, query_node, feat_scaler):\n",
    "    \n",
    "    query_cluster = calc_feat_cluster(source_node, query_node, feat_scaler)\n",
    "    query_cluster = list(query_cluster)\n",
    "    adj_clusters = []\n",
    "\n",
    "    #1-way changes are applied to each feature in the query cluster to generate adj clusters\n",
    "    source_cluster = tuple(np.zeros(len(query_cluster)))\n",
    "    for dim in range(len(query_cluster)):\n",
    "        temp = query_cluster.copy()\n",
    "        if temp[dim] < 1:\n",
    "            temp[dim] += 1\n",
    "            if temp != source_cluster:\n",
    "                adj_clusters.append(temp)\n",
    "        temp = query_cluster.copy()\n",
    "        if temp[dim] > -1:\n",
    "            temp[dim] -= 1\n",
    "            if temp != source_cluster:\n",
    "                adj_clusters.append(temp)\n",
    "\n",
    "    #Normalization to find x_q\n",
    "    feat_scaler_distance = 0\n",
    "    for feat in feat_scaler:\n",
    "        feat_scaler_distance += feat ** 2\n",
    "    feat_scaler_distance = feat_scaler_distance ** 0.5\n",
    "        \n",
    "    adjs = []\n",
    "    for cluster in adj_clusters:\n",
    "        \n",
    "        # n-dimensional euclidean distance to a point in the adj cluster equivalent to the distance\n",
    "        # from the original query cluster\n",
    "        # query_node.distance is pre-scaled scaled\n",
    "        x_q = source_node.position + feat_scaler * np.asarray(cluster) * query_node.distance / feat_scaler_distance\n",
    "        adj_node = Node(np.asarray(x_q), query_node.distance)\n",
    "        adjs.append(adj_node)\n",
    "        \n",
    "    return adjs  "
   ]
  },
  {
   "cell_type": "markdown",
   "metadata": {},
   "source": [
    "A* Cluster Search\n",
    "-"
   ]
  },
  {
   "cell_type": "code",
   "execution_count": 422,
   "metadata": {
    "scrolled": true
   },
   "outputs": [],
   "source": [
    "#A* with solution cluster tracking\n",
    "def a_star_search(source_node, prelim_discovered, feat_ranges, k_astar=100):\n",
    "    \n",
    "    #Analytics to inform how to handle degree of branching\n",
    "    feat_range = feat_ranges[0] #Can't yet use multiple ranges for defining gti\n",
    "    nodes_generated = 0\n",
    "    nodes_visited = 0\n",
    "    \n",
    "    frontier = [] # Priority Queue\n",
    "    discovered = [] #Vector of k-closest feature interactions to opposite recommendation\n",
    "    solution_clusters = {}\n",
    "    \n",
    "    #Add solutions from uniformly distributed vectors to priority queue (frontier)\n",
    "    for soln_node in prelim_discovered:\n",
    "        heapq.heappush(frontier, soln_node)\n",
    "        nodes_generated += 1\n",
    "        \n",
    "    #Scale to normalize learning rate for each feature\n",
    "    feat_scaler = 1/np.asarray(feat_ranges)\n",
    "    \n",
    "    #Opposite Recommendation as Solutions\n",
    "    source_rec = query_nsphere_synth_model(source_node)\n",
    "    # loop till queue is empty, or k solutions were discovered\n",
    "    while frontier and len(discovered) < k_astar:\n",
    " \n",
    "        # dequeue front node\n",
    "        query_node = heapq.heappop(frontier)\n",
    "        #print(node, end=' ')\n",
    "        nodes_visited += 1\n",
    "        \n",
    "        #Check if query node is a solution\n",
    "        query_rec = query_nsphere_synth_model(query_node)\n",
    "        if query_rec != source_rec:\n",
    "            \n",
    "            feat_cluster = calc_feat_cluster(source_node, query_node, feat_scaler)\n",
    "            \n",
    "            if tuple(feat_cluster) not in solution_clusters.keys():\n",
    "                \n",
    "                #Finds shortest distance node in cluster, returns solution_clusters with descending solutions\n",
    "                solution_clusters, min_node = find_cluster_min(solution_clusters, source_node, query_node, feat_scaler, feat_range)\n",
    "                discovered.append(min_node) #redundant list\n",
    "                if len(discovered) % 100 == 0:\n",
    "                    print(len(discovered),end=' ')\n",
    "                \n",
    "                #Add adjacents to priority queue before visiting them\n",
    "                adjs = find_adjs(source_node, min_node, feat_scaler) #Nodes in clusters adjacent to the current node\n",
    "                for adj_node in adjs:\n",
    "                    heapq.heappush(frontier, adj_node)\n",
    "                    nodes_generated += 1\n",
    "    \n",
    "    print(\"\\nNodes Visited:\",nodes_visited)\n",
    "    print(\"Nodes Generated:\",nodes_generated)\n",
    "\n",
    "    return solution_clusters"
   ]
  },
  {
   "cell_type": "code",
   "execution_count": 459,
   "metadata": {
    "scrolled": true
   },
   "outputs": [],
   "source": [
    "#Return node with estimated minimum distance from source node\n",
    "def find_cluster_min(solution_clusters, source_node, query_node, feat_scaler, feat_range, nsteps=500):\n",
    "    \n",
    "    plt.rcParams[\"figure.figsize\"] = (10, 10)\n",
    "    relative_pos = query_node.position - source_node.position\n",
    "    step_sizes = relative_pos/nsteps #How large of a step to take for each respective int feature\n",
    "\n",
    "    #Normalized step size for searching every feature\n",
    "    feat_steps = []\n",
    "    for feat in range(len(relative_pos)):\n",
    "        if step_sizes[feat] != 0:\n",
    "            feat_steps.append(np.linspace(step_sizes[feat],relative_pos[feat],nsteps))\n",
    "        else:\n",
    "            feat_steps.append(np.zeros(nsteps))\n",
    "    for feat in feat_steps:\n",
    "        np.flip(feat)\n",
    "    feat_steps = np.asarray(feat_steps)    \n",
    "\n",
    "    source_rec = query_nsphere_synth_model(source_node)\n",
    "    query_rec = query_nsphere_synth_model(query_node)\n",
    "    if source_rec != query_rec:\n",
    "        solution_clusters = cluster_feat_int(source_node, query_node, solution_clusters, feat_scaler)\n",
    "    \n",
    "    min_node = query_node\n",
    "    for step in range(nsteps-1):\n",
    "        \n",
    "        local_feat_step = []\n",
    "        for feat in range(len(feat_steps)):\n",
    "            local_feat_step.append(feat_steps[feat][step])\n",
    "        scaled_vector_position = tuple(np.asarray(query_node.position) - np.asarray(local_feat_step))\n",
    "        #scaled_vector_position = np.asarray(source_node.position + local_feat_step)\n",
    "        scaled_vector = Node(scaled_vector_position, None)\n",
    "        query_rec = query_nsphere_synth_model(scaled_vector)\n",
    "        \n",
    "        if source_rec == query_rec:\n",
    "            #plt.plot(scaled_vector.position[0],scaled_vector.position[1],'g*',markersize=15)\n",
    "            break\n",
    "            \n",
    "        scaled_vector.distance = get_distance(source_node, scaled_vector, feat_scaler)\n",
    "        min_node = scaled_vector\n",
    "        solution_clusters = cluster_feat_int(source_node, min_node, solution_clusters, feat_scaler)\n",
    "        #print(min_node.position,end='')\n",
    "\n",
    "        #plt.plot(scaled_vector.position[0],scaled_vector.position[1],'m+',markersize=10)\n",
    "        \n",
    "    #print(calc_feat_cluster(source_node, min_node, feat_scaler))\n",
    "    #plt.plot(source_node.position[0],source_node.position[1],'y*',markersize=30)\n",
    "\n",
    "    return solution_clusters, min_node"
   ]
  },
  {
   "cell_type": "code",
   "execution_count": 424,
   "metadata": {},
   "outputs": [],
   "source": [
    "#Run A* against ground truth synthetic model\n",
    "\n",
    "def gd_fits(source_node, feat_ranges, k_prelim=100, k_astar=100):\n",
    "\n",
    "    plt.rcParams[\"figure.figsize\"] = (40,15)\n",
    "    \n",
    "    feat_scaler = 1/np.asarray(feat_ranges)\n",
    "\n",
    "    start_time = time.time()\n",
    "    prelim_discovered = generate_precursor_solutions(source_node, feat_ranges, nsteps=4, k_prelim=k_prelim)\n",
    "    print(\"\\n\\nPreliminary Search Time:\", time.time()-start_time,'seconds')\n",
    "    \n",
    "    start_time = time.time()\n",
    "    solution_clusters = a_star_search(source_node, prelim_discovered, feat_ranges, k_astar=k_astar)\n",
    "    print(\"\\n\\nA* Cluster Search Time:\", time.time()-start_time,'seconds')\n",
    "\n",
    "    sorted_clusters = sort_solution_clusters(solution_clusters,source_node,feat_scaler)\n",
    "    #display_instability(sorted_clusters)\n",
    "\n",
    "    return sorted_clusters"
   ]
  },
  {
   "cell_type": "markdown",
   "metadata": {},
   "source": [
    "---\n"
   ]
  },
  {
   "cell_type": "markdown",
   "metadata": {},
   "source": [
    "LimeTabularExplainer with Synthetic GTI Model\n",
    "-"
   ]
  },
  {
   "cell_type": "markdown",
   "metadata": {},
   "source": [
    "Feature Importance Ranking Loss Function\n",
    "-"
   ]
  },
  {
   "cell_type": "code",
   "execution_count": 12,
   "metadata": {},
   "outputs": [],
   "source": [
    "def calc_ranking_loss(ktop_gti, query_clusters, d_dims):\n",
    "\n",
    "    loss = 0\n",
    "    for gti_cluster in range(len(ktop_gti)):\n",
    "\n",
    "        min_loss = math.inf\n",
    "        for q_cluster in range(len(query_clusters)):\n",
    "\n",
    "            #Penalize difference in ranking position\n",
    "            ranking_loss = abs(gti_cluster - q_cluster)\n",
    "            #print(ranking_loss)\n",
    "\n",
    "            #Penalize difference in cluster composition\n",
    "            cluster_loss = 0\n",
    "            for feat in range(len(list(ktop_gti)[gti_cluster])):\n",
    "                cluster_loss += abs(list(ktop_gti)[gti_cluster][feat] - list(query_clusters)[q_cluster][feat])\n",
    "            temp_loss = (1 + ranking_loss) * (1 + cluster_loss)\n",
    "\n",
    "            if temp_loss < min_loss:\n",
    "                min_loss = temp_loss\n",
    "\n",
    "        loss += min_loss - 1\n",
    "\n",
    "    regularized_loss = loss / d_dims / len(ktop_gti)\n",
    "    \n",
    "    return regularized_loss"
   ]
  },
  {
   "cell_type": "markdown",
   "metadata": {},
   "source": [
    "Intialize Synthetic Ground Truth Importance Model\n",
    "-"
   ]
  },
  {
   "cell_type": "code",
   "execution_count": 466,
   "metadata": {
    "scrolled": false
   },
   "outputs": [],
   "source": [
    "np.random.seed(seed=0)\n",
    "n_dims = 8\n",
    "source_node = get_source_node(n_dims,boundary_threshold) #Want to explain this value\n",
    "k_clusters = 8 #Number of sub-maximum decision boundaries generated in ground_truth_importance\n",
    "\n",
    "feat_ranges = np.zeros(n_dims) + 20 #Assume all features have range 20\n",
    "feat_range = feat_ranges[0]\n",
    "feat_scaler = 1 / feat_ranges"
   ]
  },
  {
   "cell_type": "code",
   "execution_count": 467,
   "metadata": {
    "scrolled": true
   },
   "outputs": [
    {
     "name": "stdout",
     "output_type": "stream",
     "text": [
      "\n",
      "\n",
      "Preliminary Search Time: 0.005352020263671875 seconds\n"
     ]
    },
    {
     "name": "stderr",
     "output_type": "stream",
     "text": [
      "/Users/sean/anaconda3/lib/python3.7/site-packages/ipykernel_launcher.py:25: RuntimeWarning: divide by zero encountered in double_scalars\n"
     ]
    },
    {
     "name": "stdout",
     "output_type": "stream",
     "text": [
      "100 200 300 400 500 600 700 \n",
      "Nodes Visited: 7385\n",
      "Nodes Generated: 7385\n",
      "\n",
      "\n",
      "A* Cluster Search Time: 3.720149040222168 seconds\n"
     ]
    },
    {
     "data": {
      "text/plain": [
       "array([[3.5726957618378052, (1, 1, 1, 1, 1, 1, 0, 1)],\n",
       "       [3.5946631654399246, (1, 1, 1, 1, 1, 1, 1, 1)],\n",
       "       [3.6410734713451203, (1, 1, 1, 1, 1, 0, 1, 1)],\n",
       "       ...,\n",
       "       [13.120000000000003, (0, -1, -1, 0, -1, 0, -1, 0)],\n",
       "       [13.129265021317833, (-1, -1, 0, -1, -1, 1, -1, 0)],\n",
       "       [14.131949617798666, (-1, -1, 0, -1, 0, -1, 0, -1)]], dtype=object)"
      ]
     },
     "execution_count": 467,
     "metadata": {},
     "output_type": "execute_result"
    }
   ],
   "source": [
    "sorted_clusters = gd_fits(source_node, feat_ranges, k_prelim=100, k_astar=5000)\n",
    "sorted_clusters"
   ]
  },
  {
   "cell_type": "code",
   "execution_count": 468,
   "metadata": {},
   "outputs": [
    {
     "name": "stdout",
     "output_type": "stream",
     "text": [
      "[3.5726957618378052 (1, 1, 1, 1, 1, 1, 0, 1)] : 3.569124667983523\n",
      "[3.5946631654399246 (1, 1, 1, 1, 1, 1, 1, 1)] : 3.590624234482413\n",
      "[3.6410734713451203 (1, 1, 1, 1, 1, 0, 1, 1)] : 3.6359367548873527\n",
      "[3.7058079710772227 (1, 1, 1, 1, 1, 1, 0, -1)] : 3.704792868174742\n",
      "[3.7058383148865213 (1, 1, 1, 1, 0, 1, 1, 1)] : 3.7047928681747426\n",
      "[3.7120976637031635 (1, 1, 1, 0, 1, 0, 1, 0)] : 3.708512478042067\n",
      "[3.7209848590055916 (1, 1, 1, 1, 1, 1, 1, -1)] : 3.7185281585469934\n",
      "[3.759955976883306 (1, 1, 1, 0, 1, 1, 0, 1)] : 3.752563456171123\n",
      "[3.7802545888093615 (1, 1, 1, 0, 1, 1, 1, 1)] : 3.7757643548584476\n",
      "[3.7814886778512116 (1, 1, 1, 1, 1, 0, 1, -1)] : 3.7757643548584467\n",
      "[3.831275567770555 (1, 1, 1, 0, 1, 0, 1, 1)] : 3.830907551779409\n",
      "[3.8386450646044237 (1, 1, 0, 1, 1, 1, 0, 1)] : 3.830907551779409\n",
      "[3.8525227520329377 (1, 1, 1, 1, 0, 1, 1, -1)] : 3.8489244178558546\n",
      "[3.8553159803670227 (1, 1, 0, 1, 1, 1, 1, 1)] : 3.848924417855855\n",
      "[3.857951944581927 (1, 1, 1, 1, 1, 1, -1, 1)] : 3.853886923982833\n",
      "[3.912767346790348 (1, 0, 1, 1, 1, 1, 0, 1)] : 3.911871018180421\n",
      "[3.9166404210443617 (1, 1, 1, 0, 1, 1, 0, -1)] : 3.911871018180421\n",
      "[3.9176463087075972 (1, 1, 1, 0, 0, 1, 1, 1)] : 3.911871018180421\n",
      "[3.926776862877138 (1, 1, 1, 1, 1, 0, -1, 1)] : 3.9243480498988044\n",
      "[3.927296011687101 (1, 1, 1, 0, 1, 1, 1, -1)] : 3.9243480498988044\n"
     ]
    },
    {
     "name": "stderr",
     "output_type": "stream",
     "text": [
      "/Users/sean/anaconda3/lib/python3.7/site-packages/ipykernel_launcher.py:25: RuntimeWarning: divide by zero encountered in double_scalars\n"
     ]
    }
   ],
   "source": [
    "for query_cluster_slope in sorted_clusters[0:20]:\n",
    "    distance = gti_cluster_min(source_node, np.asarray(query_cluster_slope[1]))\n",
    "    print(query_cluster_slope,\":\",distance)"
   ]
  },
  {
   "cell_type": "code",
   "execution_count": 30,
   "metadata": {},
   "outputs": [
    {
     "data": {
      "text/plain": [
       "array([1, 1])"
      ]
     },
     "execution_count": 30,
     "metadata": {},
     "output_type": "execute_result"
    }
   ],
   "source": [
    "#Find top k importance clusters\n",
    "\n",
    "scaled_feats = gti_feature_importance\n",
    "f_max = np.argmax(abs(scaled_feats)) #Most dominant feature in solution\n",
    "soln_cluster = np.zeros(len(feat_ranges)) #Marks which feature interaction was expressed by the node position\n",
    "\n",
    "#Loop through each feature of a single solution, and determine degree of multi-feature interaction\n",
    "for f_i in range(len(scaled_feats)):\n",
    "\n",
    "    if abs(scaled_feats[f_max]/scaled_feats[f_i]) <= 2:\n",
    "        if scaled_feats[f_i] > 0:\n",
    "            soln_cluster[f_i] = 1\n",
    "        else:\n",
    "            soln_cluster[f_i] = -1\n",
    "\n",
    "if scaled_feats[f_max] > 0:\n",
    "    soln_cluster[f_max] = 1\n",
    "else:\n",
    "    soln_cluster[f_max] = -1\n",
    "\n",
    "soln_cluster.astype(int)"
   ]
  },
  {
   "cell_type": "code",
   "execution_count": null,
   "metadata": {},
   "outputs": [],
   "source": []
  },
  {
   "cell_type": "markdown",
   "metadata": {},
   "source": [
    "Evaluation of DFEST \n",
    "-"
   ]
  },
  {
   "cell_type": "code",
   "execution_count": 31,
   "metadata": {
    "scrolled": false
   },
   "outputs": [
    {
     "name": "stdout",
     "output_type": "stream",
     "text": [
      "\n",
      "\n",
      "Preliminary Search Time: 0.12671399116516113 seconds\n",
      "\n",
      "Nodes Visited: 103\n",
      "Nodes Generated: 103\n",
      "\n",
      "\n",
      "A* Cluster Search Time: 0.009259939193725586 seconds\n",
      "DFEST Loss: 6.375\n",
      "Random Loss: 0.875\n",
      "Self Loss: 0.0\n"
     ]
    },
    {
     "name": "stderr",
     "output_type": "stream",
     "text": [
      "/Users/sean/anaconda3/lib/python3.7/site-packages/ipykernel_launcher.py:25: RuntimeWarning: invalid value encountered in double_scalars\n",
      "/Users/sean/anaconda3/lib/python3.7/site-packages/ipykernel_launcher.py:25: RuntimeWarning: divide by zero encountered in double_scalars\n"
     ]
    }
   ],
   "source": [
    "sorted_clusters = gd_fits(source_node, feat_ranges, k_prelim=100, k_astar=5000)\n",
    "i=0\n",
    "ktop_sorted_clusters = []\n",
    "for soln in sorted_clusters:\n",
    "    if i >= k_clusters:\n",
    "        break\n",
    "    ktop_sorted_clusters.append(soln)\n",
    "    i+=1\n",
    "sorted_solution_clusters = {}\n",
    "for cluster in ktop_sorted_clusters:\n",
    "    sorted_solution_clusters[cluster[1]] = cluster[0]\n",
    "dfest_loss = calc_ranking_loss(ground_truth_importance, sorted_solution_clusters, n_dims)\n",
    "print(\"DFEST Loss:\",dfest_loss)\n",
    "\n",
    "#Random Chance Evaluation\n",
    "random_gti = {}\n",
    "while len(random_gti) < k_clusters: #len(solution_clusters):\n",
    "    random_cluster = tuple(np.random.randint(low=-1,high=2, size=n_dims)) \n",
    "    if random_cluster not in random_gti.keys():\n",
    "        random_gti[random_cluster] = np.random.randint(low=0,high=feat_range)\n",
    "random_loss = calc_ranking_loss(ground_truth_importance, random_gti, n_dims)\n",
    "print(\"Random Loss:\",random_loss)\n",
    "\n",
    "#Self Evaluation\n",
    "self_loss = calc_ranking_loss(ground_truth_importance, ground_truth_importance, n_dims)\n",
    "print(\"Self Loss:\",self_loss)"
   ]
  },
  {
   "cell_type": "code",
   "execution_count": 32,
   "metadata": {},
   "outputs": [
    {
     "data": {
      "text/plain": [
       "{(-1, 0): 30.0}"
      ]
     },
     "execution_count": 32,
     "metadata": {},
     "output_type": "execute_result"
    }
   ],
   "source": [
    "sorted_solution_clusters"
   ]
  },
  {
   "cell_type": "code",
   "execution_count": 33,
   "metadata": {},
   "outputs": [
    {
     "data": {
      "text/plain": [
       "{(-1, 0): 30.0,\n",
       " (-1, 1): 330.0,\n",
       " (0, 1): 480.0,\n",
       " (1, 1): 630.0,\n",
       " (-1, -1): 660.0,\n",
       " (0, -1): 480.0,\n",
       " (1, -1): 630.0,\n",
       " (1, 0): 660.0}"
      ]
     },
     "execution_count": 33,
     "metadata": {},
     "output_type": "execute_result"
    }
   ],
   "source": [
    "ground_truth_importance"
   ]
  },
  {
   "cell_type": "markdown",
   "metadata": {},
   "source": [
    "---"
   ]
  },
  {
   "cell_type": "markdown",
   "metadata": {},
   "source": [
    "---"
   ]
  },
  {
   "cell_type": "code",
   "execution_count": 85,
   "metadata": {},
   "outputs": [],
   "source": [
    "#nsphere decision boundary\n",
    "def query_nsphere_synth_model(query_node):\n",
    "    \n",
    "    distance = 0\n",
    "    for i in range(len(query_node.position)):\n",
    "        distance += query_node.position[i] ** 2\n",
    "    distance = distance ** 0.5\n",
    "    \n",
    "    if distance < boundary_threshold:\n",
    "        return 0\n",
    "    else:\n",
    "        return 1"
   ]
  },
  {
   "cell_type": "code",
   "execution_count": 427,
   "metadata": {},
   "outputs": [
    {
     "name": "stdout",
     "output_type": "stream",
     "text": [
      "Source Position: [5.96284794 2.98142397]\n"
     ]
    }
   ],
   "source": [
    "np.random.seed(seed=0)\n",
    "n_dims = 2\n",
    "origin_node = Node(np.zeros(n_dims),0)\n",
    "\n",
    "boundary_threshold = 10 #nsphere distance threshold from origin for class 0\n",
    "feat_range = 20\n",
    "feat_ranges = np.zeros(n_dims) + feat_range #Assume all features have max range 20\n",
    "feat_scaler = 1 / feat_ranges\n",
    "\n",
    "def get_source_node(n_dims,boundary_threshold):\n",
    "    source_pos = np.linspace(1,n_dims,n_dims)\n",
    "    source_pos = np.flip(source_pos)\n",
    "    source_pos = source_pos/np.linalg.norm(source_pos) * boundary_threshold / 1.5\n",
    "    source_node = Node(source_pos,0) #Want to explain this value\n",
    "    return source_node\n",
    "\n",
    "source_node = get_source_node(n_dims,boundary_threshold)\n",
    "query_nsphere_synth_model(source_node)\n",
    "print(\"Source Position:\",source_node.position)"
   ]
  },
  {
   "cell_type": "code",
   "execution_count": 389,
   "metadata": {},
   "outputs": [
    {
     "name": "stdout",
     "output_type": "stream",
     "text": [
      "t_pos 11.384283072775487\n",
      "t_neg -2.4400111627763277\n",
      "xyz Pos [-5.42143513 -8.4028591 ]\n",
      "Pos Distance: 10.0\n",
      "xyz Neg [8.4028591  5.42143513]\n",
      "Neg Distance: 10.0\n"
     ]
    }
   ],
   "source": [
    "# Solve for optimal cluster distance of nsphere gti synthetic model\n",
    "cluster_slope = np.asarray([-1,-1])\n",
    "\n",
    "#ax^2+bx+c=0\n",
    "c = 0\n",
    "b = 0\n",
    "a = 0\n",
    "\n",
    "for dim in range(n_dims):\n",
    "    c += source_node.position[dim] ** 2\n",
    "    b += 2 * source_node.position[dim] * cluster_slope[dim]\n",
    "    a += cluster_slope[dim] ** 2\n",
    "c = c - boundary_threshold ** 2\n",
    "\n",
    "t_pos = (-b + (b**2 - 4*a*c) ** 0.5) / (2 * a)\n",
    "t_neg = (-b - (b**2 - 4*a*c) ** 0.5) / (2 * a)\n",
    "print(\"t_pos\",t_pos)\n",
    "print(\"t_neg\",t_neg)\n",
    "\n",
    "query_position_pos = source_node.position + cluster_slope * t_pos\n",
    "query_node_pos = Node(query_position_pos, 0)\n",
    "print(\"xyz Pos\",query_position_pos)\n",
    "print(\"Pos Distance:\",get_distance(origin_node, query_node_pos, feat_scaler))\n",
    "\n",
    "query_position_neg = source_node.position + cluster_slope * t_neg\n",
    "query_node_neg = Node(query_position_neg, 0)\n",
    "print(\"xyz Neg\",query_position_neg)\n",
    "print(\"Neg Distance:\",get_distance(origin_node, query_node_neg, feat_scaler))"
   ]
  },
  {
   "cell_type": "code",
   "execution_count": 390,
   "metadata": {},
   "outputs": [
    {
     "name": "stdout",
     "output_type": "stream",
     "text": [
      "synth_data: (1000, 2)\n",
      "synth_labels: (1000,)\n"
     ]
    },
    {
     "data": {
      "text/plain": [
       "[<matplotlib.lines.Line2D at 0x7fee13539e10>]"
      ]
     },
     "execution_count": 390,
     "metadata": {},
     "output_type": "execute_result"
    },
    {
     "data": {
      "image/png": "[encoded data removed]",
      "text/plain": [
       "<Figure size 504x504 with 1 Axes>"
      ]
     },
     "metadata": {
      "needs_background": "light"
     },
     "output_type": "display_data"
    }
   ],
   "source": [
    "#Generate \"training data\" for LIME input\n",
    "synth_data = []\n",
    "synth_labels = []\n",
    "nsamp = 1000\n",
    "for _ in range(nsamp):\n",
    "    point = np.random.uniform(low=-1*feat_range, high=1*feat_range, size=(n_dims,))\n",
    "    point_node = Node(point, None)\n",
    "    rec = query_nsphere_synth_model(point_node)\n",
    "    synth_data.append(point)\n",
    "    synth_labels.append(rec)\n",
    "    \n",
    "synth_data = np.asarray(synth_data)\n",
    "synth_labels = np.asarray(synth_labels)\n",
    "print(\"synth_data:\",synth_data.shape)\n",
    "print(\"synth_labels:\",synth_labels.shape)\n",
    "\n",
    "plt.rcParams[\"figure.figsize\"] = (7,7)\n",
    "for i in range(len(synth_data)):\n",
    "    color = 'c+'\n",
    "    if synth_labels[i] == 1:\n",
    "        color = 'k+'\n",
    "    plt.plot(synth_data[i][0],synth_data[i][1],color,markersize=5)\n",
    "plt.plot(origin_node.position[0],origin_node.position[1],'y*',markersize=30)\n",
    "plt.plot(source_node.position[0],source_node.position[1],'r*',markersize=30)\n",
    "\n",
    "query_node = Node(np.asarray([4,-4]),0)\n",
    "plt.plot(query_node_pos.position[0],query_node_pos.position[1],'g*',markersize=20)\n",
    "plt.plot(query_node_neg.position[0],query_node_neg.position[1],'g*',markersize=20)"
   ]
  },
  {
   "cell_type": "code",
   "execution_count": 388,
   "metadata": {},
   "outputs": [
    {
     "name": "stdout",
     "output_type": "stream",
     "text": [
      "Min Cluster Distance: 16.099807519413545\n"
     ]
    }
   ],
   "source": [
    "#Find GTI distance of interaction cluster on surface of nsphere\n",
    "\n",
    "def gti_cluster_min(source_node, cluster_slope):\n",
    "\n",
    "    # Solve for optimal cluster distance of nsphere gti synthetic model\n",
    "    n_dims = len(source_node.position)\n",
    "    \n",
    "    #ax^2+bx+c=0\n",
    "    c = 0\n",
    "    b = 0\n",
    "    a = 0\n",
    "\n",
    "    for dim in range(n_dims):\n",
    "        c += source_node.position[dim] ** 2\n",
    "        b += 2 * source_node.position[dim] * cluster_slope[dim]\n",
    "        a += cluster_slope[dim] ** 2\n",
    "    c = c - boundary_threshold ** 2\n",
    "\n",
    "    t_pos = (-b + (b**2 - 4*a*c) ** 0.5) / (2 * a)\n",
    "    t_neg = (-b - (b**2 - 4*a*c) ** 0.5) / (2 * a)\n",
    "\n",
    "    query_position_pos = source_node.position + cluster_slope * t_pos\n",
    "    query_node_pos = Node(query_position_pos, 0)\n",
    "\n",
    "    query_position_neg = source_node.position + cluster_slope * t_neg\n",
    "    query_node_neg = Node(query_position_neg, 0)\n",
    "    \n",
    "    if np.array_equal(calc_feat_cluster(source_node, query_node_pos, feat_scaler), cluster_slope):\n",
    "        return get_distance(source_node, query_node_pos, feat_scaler)\n",
    "    else:\n",
    "        return get_distance(source_node, query_node_neg, feat_scaler)\n",
    "    \n",
    "\n",
    "cluster_slope = np.asarray([-1,-1])\n",
    "print(\"Min Cluster Distance:\",gti_cluster_min(source_node, cluster_slope))"
   ]
  },
  {
   "cell_type": "code",
   "execution_count": null,
   "metadata": {},
   "outputs": [],
   "source": []
  },
  {
   "cell_type": "code",
   "execution_count": 400,
   "metadata": {},
   "outputs": [
    {
     "name": "stdout",
     "output_type": "stream",
     "text": [
      "Source Position: [5.96284794 2.98142397]\n"
     ]
    }
   ],
   "source": [
    "np.random.seed(seed=0)\n",
    "n_dims = 2\n",
    "origin_node = Node(np.zeros(n_dims),0)\n",
    "\n",
    "boundary_threshold = 10 #nsphere distance threshold from origin for class 0\n",
    "feat_range = 20\n",
    "feat_ranges = np.zeros(n_dims) + feat_range #Assume all features have max range 20\n",
    "feat_scaler = 1 / feat_ranges\n",
    "\n",
    "\n",
    "source_pos = np.linspace(1,n_dims,n_dims)\n",
    "source_pos = np.flip(source_pos)\n",
    "source_pos = source_pos/np.linalg.norm(source_pos) * boundary_threshold / 1.5\n",
    "\n",
    "source_node = Node(source_pos,0) #Want to explain this value\n",
    "query_nsphere_synth_model(source_node)\n",
    "print(\"Source Position:\",source_node.position)"
   ]
  },
  {
   "cell_type": "code",
   "execution_count": 418,
   "metadata": {},
   "outputs": [],
   "source": [
    "#Find top k feature interaction clusters\n",
    "query_clusters = []\n",
    "values = [-1, 0, 1]\n",
    "for i in range(n_dims):\n",
    "    for val in values:\n",
    "        base_cluster = np.copy(origin_node.position)\n",
    "        base_cluster[i] = val\n",
    "        query_clusters.append(np.copy(base_cluster))\n",
    "        for j in range(n_dims):\n",
    "            if j > i:\n",
    "                for val in values:\n",
    "                    base_cluster[j] = val\n",
    "                    query_clusters.append(np.copy(base_cluster))"
   ]
  },
  {
   "cell_type": "code",
   "execution_count": 420,
   "metadata": {},
   "outputs": [
    {
     "name": "stdout",
     "output_type": "stream",
     "text": [
      "[-1.  0.] : 15.508061982183676\n",
      "[-1. -1.] : 16.099807519413545\n",
      "[-1.  0.] : 15.508061982183676\n",
      "[-1.  1.] : 9.854151799193753\n",
      "[0. 0.] : nan\n",
      "[ 0. -1.] : 11.009153689194582\n",
      "[0. 0.] : nan\n",
      "[0. 1.] : 5.0463057491951435\n",
      "[1. 0.] : 3.582366102184797\n",
      "[ 1. -1.] : 5.637781585635915\n",
      "[1. 0.] : 3.582366102184797\n",
      "[1. 1.] : 3.4506968787400285\n",
      "[ 0. -1.] : 11.009153689194582\n",
      "[0. 0.] : nan\n",
      "[0. 1.] : 5.0463057491951435\n"
     ]
    },
    {
     "name": "stderr",
     "output_type": "stream",
     "text": [
      "/Users/sean/anaconda3/lib/python3.7/site-packages/ipykernel_launcher.py:25: RuntimeWarning: divide by zero encountered in double_scalars\n",
      "/Users/sean/anaconda3/lib/python3.7/site-packages/ipykernel_launcher.py:19: RuntimeWarning: invalid value encountered in double_scalars\n",
      "/Users/sean/anaconda3/lib/python3.7/site-packages/ipykernel_launcher.py:20: RuntimeWarning: invalid value encountered in double_scalars\n"
     ]
    }
   ],
   "source": [
    "for query_cluster_slope in query_clusters:\n",
    "    distance = gti_cluster_min(source_node, query_cluster_slope)\n",
    "    print(query_cluster_slope,\":\",distance)"
   ]
  },
  {
   "cell_type": "code",
   "execution_count": null,
   "metadata": {},
   "outputs": [],
   "source": []
  }
 ],
 "metadata": {
  "kernelspec": {
   "display_name": "Python 3",
   "language": "python",
   "name": "python3"
  },
  "language_info": {
   "codemirror_mode": {
    "name": "ipython",
    "version": 3
   },
   "file_extension": ".py",
   "mimetype": "text/x-python",
   "name": "python",
   "nbconvert_exporter": "python",
   "pygments_lexer": "ipython3",
   "version": "3.7.6"
  }
 },
 "nbformat": 4,
 "nbformat_minor": 4
}
